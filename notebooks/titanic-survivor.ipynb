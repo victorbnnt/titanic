{
 "cells": [
  {
   "cell_type": "markdown",
   "metadata": {},
   "source": [
    "<div style=\"font-size:35pt; font-weight:700;margin-top:50px;margin-bottom:50px;color:royalblue; text-align:center;width:800px;line-height:20pt\">Kaggle Titanic Challenge</div>"
   ]
  },
  {
   "cell_type": "markdown",
   "metadata": {},
   "source": [
    "This workbook is the titanic passenger dataset analysis to predict whether or not a passenger will survive from RMS Titanic disaster.\n",
    "\n",
    "It is a Kaggle competition available <a href=\"https://www.kaggle.com/c/titanic\" target=\"_blank\">HERE</a>.\n",
    "\n",
    "<i><blockquote><b>The Challenge</b></blockquote></i>\n",
    "    \n",
    "<blockquote>The sinking of the Titanic is one of the most infamous shipwrecks in history.\n",
    "\n",
    "On April 15, 1912, during her maiden voyage, the widely considered “unsinkable” RMS Titanic sank after colliding with an iceberg. Unfortunately, there weren’t enough lifeboats for everyone onboard, resulting in the death of 1502 out of 2224 passengers and crew.\n",
    "\n",
    "While there was some element of luck involved in surviving, it seems some groups of people were more likely to survive than others.\n",
    "\n",
    "In this challenge, we ask you to build a predictive model that answers the question: “what sorts of people were more likely to survive?” using passenger data (ie name, age, gender, socio-economic class, etc).</blockquote>\n",
    "<figcaption>Kaggle</figcaption>"
   ]
  },
  {
   "cell_type": "markdown",
   "metadata": {},
   "source": [
    "Note that this analysis is not extremely deep, it is intentionally simplified and some features are removed without further analysis for the sake of simplicity as I used the dataset to train at building a package and deploy an app online. The app is available <a href=\"https://titanic-survivor-vbnnt.herokuapp.com/\" target=\"_blank\">HERE</a>."
   ]
  },
  {
   "cell_type": "markdown",
   "metadata": {},
   "source": [
    "# 1. Import"
   ]
  },
  {
   "cell_type": "code",
   "execution_count": 1,
   "metadata": {},
   "outputs": [],
   "source": [
    "# \n",
    "from scipy import stats\n",
    "import numpy as np\n",
    "import pandas as pd \n",
    "import seaborn as sns\n",
    "import matplotlib.pyplot as plt\n",
    "plt.style.use('fivethirtyeight');\n",
    "\n",
    "# Sci-kit learn\n",
    "from sklearn.pipeline import Pipeline\n",
    "from sklearn.preprocessing import StandardScaler\n",
    "from sklearn.impute import SimpleImputer\n",
    "from sklearn.preprocessing import OneHotEncoder\n",
    "from sklearn.compose import ColumnTransformer\n",
    "from sklearn.ensemble import GradientBoostingClassifier\n",
    "from sklearn.model_selection import cross_validate\n",
    "from sklearn.model_selection import RandomizedSearchCV\n",
    "from sklearn import set_config; set_config(display='diagram')"
   ]
  },
  {
   "cell_type": "code",
   "execution_count": 4,
   "metadata": {
    "_cell_guid": "b691de71-5083-4eb5-89fd-75cc627bf009",
    "_uuid": "8f212779-ff97-4184-ab30-7d6cd58d130d",
    "jupyter": {
     "outputs_hidden": false
    }
   },
   "outputs": [
    {
     "data": {
      "text/html": [
       "<div>\n",
       "<style scoped>\n",
       "    .dataframe tbody tr th:only-of-type {\n",
       "        vertical-align: middle;\n",
       "    }\n",
       "\n",
       "    .dataframe tbody tr th {\n",
       "        vertical-align: top;\n",
       "    }\n",
       "\n",
       "    .dataframe thead th {\n",
       "        text-align: right;\n",
       "    }\n",
       "</style>\n",
       "<table border=\"1\" class=\"dataframe\">\n",
       "  <thead>\n",
       "    <tr style=\"text-align: right;\">\n",
       "      <th></th>\n",
       "      <th>PassengerId</th>\n",
       "      <th>Survived</th>\n",
       "      <th>Pclass</th>\n",
       "      <th>Name</th>\n",
       "      <th>Sex</th>\n",
       "      <th>Age</th>\n",
       "      <th>SibSp</th>\n",
       "      <th>Parch</th>\n",
       "      <th>Ticket</th>\n",
       "      <th>Fare</th>\n",
       "      <th>Cabin</th>\n",
       "      <th>Embarked</th>\n",
       "    </tr>\n",
       "  </thead>\n",
       "  <tbody>\n",
       "    <tr>\n",
       "      <th>0</th>\n",
       "      <td>1</td>\n",
       "      <td>0</td>\n",
       "      <td>3</td>\n",
       "      <td>Braund, Mr. Owen Harris</td>\n",
       "      <td>male</td>\n",
       "      <td>22.0</td>\n",
       "      <td>1</td>\n",
       "      <td>0</td>\n",
       "      <td>A/5 21171</td>\n",
       "      <td>7.2500</td>\n",
       "      <td>NaN</td>\n",
       "      <td>S</td>\n",
       "    </tr>\n",
       "    <tr>\n",
       "      <th>1</th>\n",
       "      <td>2</td>\n",
       "      <td>1</td>\n",
       "      <td>1</td>\n",
       "      <td>Cumings, Mrs. John Bradley (Florence Briggs Th...</td>\n",
       "      <td>female</td>\n",
       "      <td>38.0</td>\n",
       "      <td>1</td>\n",
       "      <td>0</td>\n",
       "      <td>PC 17599</td>\n",
       "      <td>71.2833</td>\n",
       "      <td>C85</td>\n",
       "      <td>C</td>\n",
       "    </tr>\n",
       "    <tr>\n",
       "      <th>2</th>\n",
       "      <td>3</td>\n",
       "      <td>1</td>\n",
       "      <td>3</td>\n",
       "      <td>Heikkinen, Miss. Laina</td>\n",
       "      <td>female</td>\n",
       "      <td>26.0</td>\n",
       "      <td>0</td>\n",
       "      <td>0</td>\n",
       "      <td>STON/O2. 3101282</td>\n",
       "      <td>7.9250</td>\n",
       "      <td>NaN</td>\n",
       "      <td>S</td>\n",
       "    </tr>\n",
       "    <tr>\n",
       "      <th>3</th>\n",
       "      <td>4</td>\n",
       "      <td>1</td>\n",
       "      <td>1</td>\n",
       "      <td>Futrelle, Mrs. Jacques Heath (Lily May Peel)</td>\n",
       "      <td>female</td>\n",
       "      <td>35.0</td>\n",
       "      <td>1</td>\n",
       "      <td>0</td>\n",
       "      <td>113803</td>\n",
       "      <td>53.1000</td>\n",
       "      <td>C123</td>\n",
       "      <td>S</td>\n",
       "    </tr>\n",
       "    <tr>\n",
       "      <th>4</th>\n",
       "      <td>5</td>\n",
       "      <td>0</td>\n",
       "      <td>3</td>\n",
       "      <td>Allen, Mr. William Henry</td>\n",
       "      <td>male</td>\n",
       "      <td>35.0</td>\n",
       "      <td>0</td>\n",
       "      <td>0</td>\n",
       "      <td>373450</td>\n",
       "      <td>8.0500</td>\n",
       "      <td>NaN</td>\n",
       "      <td>S</td>\n",
       "    </tr>\n",
       "  </tbody>\n",
       "</table>\n",
       "</div>"
      ],
      "text/plain": [
       "   PassengerId  Survived  Pclass  \\\n",
       "0            1         0       3   \n",
       "1            2         1       1   \n",
       "2            3         1       3   \n",
       "3            4         1       1   \n",
       "4            5         0       3   \n",
       "\n",
       "                                                Name     Sex   Age  SibSp  \\\n",
       "0                            Braund, Mr. Owen Harris    male  22.0      1   \n",
       "1  Cumings, Mrs. John Bradley (Florence Briggs Th...  female  38.0      1   \n",
       "2                             Heikkinen, Miss. Laina  female  26.0      0   \n",
       "3       Futrelle, Mrs. Jacques Heath (Lily May Peel)  female  35.0      1   \n",
       "4                           Allen, Mr. William Henry    male  35.0      0   \n",
       "\n",
       "   Parch            Ticket     Fare Cabin Embarked  \n",
       "0      0         A/5 21171   7.2500   NaN        S  \n",
       "1      0          PC 17599  71.2833   C85        C  \n",
       "2      0  STON/O2. 3101282   7.9250   NaN        S  \n",
       "3      0            113803  53.1000  C123        S  \n",
       "4      0            373450   8.0500   NaN        S  "
      ]
     },
     "execution_count": 4,
     "metadata": {},
     "output_type": "execute_result"
    }
   ],
   "source": [
    "data = pd.read_csv(\"../raw_data/train.csv\")\n",
    "data.head()"
   ]
  },
  {
   "cell_type": "markdown",
   "metadata": {},
   "source": [
    "# 2. Dropping useless features\n",
    "<div style=\"font-weight:700\">These features can't be used in algorithms: Tickets seems to be random, Names and PassengerId will not be used </div>"
   ]
  },
  {
   "cell_type": "code",
   "execution_count": 5,
   "metadata": {},
   "outputs": [],
   "source": [
    "data = data.drop([\"Name\", \"PassengerId\", \"Ticket\"], axis=1)"
   ]
  },
  {
   "cell_type": "markdown",
   "metadata": {},
   "source": [
    "# 3. Duplicates"
   ]
  },
  {
   "cell_type": "code",
   "execution_count": 6,
   "metadata": {},
   "outputs": [
    {
     "name": "stdout",
     "output_type": "stream",
     "text": [
      "107 duplicates were removed.\n"
     ]
    }
   ],
   "source": [
    "size_before = len(data)\n",
    "data = data.drop_duplicates()\n",
    "size_after = len(data)\n",
    "print(str(size_before - size_after) + \" duplicates were removed.\")"
   ]
  },
  {
   "cell_type": "markdown",
   "metadata": {},
   "source": [
    "# 4. Missing\n",
    "<div style=\"font-weight:700\">Droping features that have too many missing values</div>"
   ]
  },
  {
   "cell_type": "code",
   "execution_count": 7,
   "metadata": {},
   "outputs": [
    {
     "data": {
      "text/plain": [
       "Cabin       74.107143\n",
       "Age         13.520408\n",
       "Embarked     0.255102\n",
       "Fare         0.000000\n",
       "Parch        0.000000\n",
       "SibSp        0.000000\n",
       "Sex          0.000000\n",
       "Pclass       0.000000\n",
       "Survived     0.000000\n",
       "dtype: float64"
      ]
     },
     "execution_count": 7,
     "metadata": {},
     "output_type": "execute_result"
    }
   ],
   "source": [
    "100 * data.isnull().sum().sort_values(ascending=False)/len(data)"
   ]
  },
  {
   "cell_type": "markdown",
   "metadata": {},
   "source": [
    "<div style=\"font-weight:700\">Cabin feature has 74% missing value, we remove it.</div>"
   ]
  },
  {
   "cell_type": "code",
   "execution_count": 8,
   "metadata": {},
   "outputs": [],
   "source": [
    "data = data.drop([\"Cabin\"], axis=1)"
   ]
  },
  {
   "cell_type": "code",
   "execution_count": 9,
   "metadata": {},
   "outputs": [
    {
     "data": {
      "text/html": [
       "<div>\n",
       "<style scoped>\n",
       "    .dataframe tbody tr th:only-of-type {\n",
       "        vertical-align: middle;\n",
       "    }\n",
       "\n",
       "    .dataframe tbody tr th {\n",
       "        vertical-align: top;\n",
       "    }\n",
       "\n",
       "    .dataframe thead th {\n",
       "        text-align: right;\n",
       "    }\n",
       "</style>\n",
       "<table border=\"1\" class=\"dataframe\">\n",
       "  <thead>\n",
       "    <tr style=\"text-align: right;\">\n",
       "      <th></th>\n",
       "      <th>Survived</th>\n",
       "      <th>Pclass</th>\n",
       "      <th>Sex</th>\n",
       "      <th>Age</th>\n",
       "      <th>SibSp</th>\n",
       "      <th>Parch</th>\n",
       "      <th>Fare</th>\n",
       "      <th>Embarked</th>\n",
       "    </tr>\n",
       "  </thead>\n",
       "  <tbody>\n",
       "    <tr>\n",
       "      <th>0</th>\n",
       "      <td>0</td>\n",
       "      <td>3</td>\n",
       "      <td>male</td>\n",
       "      <td>22.0</td>\n",
       "      <td>1</td>\n",
       "      <td>0</td>\n",
       "      <td>7.2500</td>\n",
       "      <td>S</td>\n",
       "    </tr>\n",
       "    <tr>\n",
       "      <th>1</th>\n",
       "      <td>1</td>\n",
       "      <td>1</td>\n",
       "      <td>female</td>\n",
       "      <td>38.0</td>\n",
       "      <td>1</td>\n",
       "      <td>0</td>\n",
       "      <td>71.2833</td>\n",
       "      <td>C</td>\n",
       "    </tr>\n",
       "    <tr>\n",
       "      <th>2</th>\n",
       "      <td>1</td>\n",
       "      <td>3</td>\n",
       "      <td>female</td>\n",
       "      <td>26.0</td>\n",
       "      <td>0</td>\n",
       "      <td>0</td>\n",
       "      <td>7.9250</td>\n",
       "      <td>S</td>\n",
       "    </tr>\n",
       "    <tr>\n",
       "      <th>3</th>\n",
       "      <td>1</td>\n",
       "      <td>1</td>\n",
       "      <td>female</td>\n",
       "      <td>35.0</td>\n",
       "      <td>1</td>\n",
       "      <td>0</td>\n",
       "      <td>53.1000</td>\n",
       "      <td>S</td>\n",
       "    </tr>\n",
       "    <tr>\n",
       "      <th>4</th>\n",
       "      <td>0</td>\n",
       "      <td>3</td>\n",
       "      <td>male</td>\n",
       "      <td>35.0</td>\n",
       "      <td>0</td>\n",
       "      <td>0</td>\n",
       "      <td>8.0500</td>\n",
       "      <td>S</td>\n",
       "    </tr>\n",
       "  </tbody>\n",
       "</table>\n",
       "</div>"
      ],
      "text/plain": [
       "   Survived  Pclass     Sex   Age  SibSp  Parch     Fare Embarked\n",
       "0         0       3    male  22.0      1      0   7.2500        S\n",
       "1         1       1  female  38.0      1      0  71.2833        C\n",
       "2         1       3  female  26.0      0      0   7.9250        S\n",
       "3         1       1  female  35.0      1      0  53.1000        S\n",
       "4         0       3    male  35.0      0      0   8.0500        S"
      ]
     },
     "execution_count": 9,
     "metadata": {},
     "output_type": "execute_result"
    }
   ],
   "source": [
    "data.head()"
   ]
  },
  {
   "cell_type": "code",
   "execution_count": 10,
   "metadata": {},
   "outputs": [
    {
     "data": {
      "image/png": "[encoded data removed]",
      "text/plain": [
       "<Figure size 432x288 with 1 Axes>"
      ]
     },
     "metadata": {},
     "output_type": "display_data"
    }
   ],
   "source": [
    "plt.bar(x=[\"Didn't survived\", \"Survived\"], height=data[\"Survived\"].value_counts());"
   ]
  },
  {
   "cell_type": "code",
   "execution_count": 11,
   "metadata": {},
   "outputs": [
    {
     "data": {
      "image/png": "[encoded data removed]",
      "text/plain": [
       "<Figure size 432x288 with 1 Axes>"
      ]
     },
     "metadata": {},
     "output_type": "display_data"
    }
   ],
   "source": [
    "def plot_dist(series=data[\"Fare\"], title=\"Ticket Fare Distribution\"):\n",
    "    sns.histplot(series, kde=True, stat='density', discrete=True)\n",
    "    sns.despine()\n",
    "    plt.title(title);\n",
    "    plt.show()\n",
    "plot_dist()"
   ]
  },
  {
   "cell_type": "code",
   "execution_count": 12,
   "metadata": {},
   "outputs": [
    {
     "data": {
      "image/png": "[encoded data removed]",
      "text/plain": [
       "<Figure size 432x288 with 1 Axes>"
      ]
     },
     "metadata": {},
     "output_type": "display_data"
    }
   ],
   "source": [
    "data = data[data[\"Fare\"].between(0, 100)]\n",
    "plot_dist(series=data[\"Fare\"])"
   ]
  },
  {
   "cell_type": "code",
   "execution_count": 13,
   "metadata": {},
   "outputs": [
    {
     "data": {
      "image/png": "[encoded data removed]",
      "text/plain": [
       "<Figure size 432x288 with 1 Axes>"
      ]
     },
     "metadata": {},
     "output_type": "display_data"
    }
   ],
   "source": [
    "plot_dist(series=data[\"Age\"], title=\"Age Distribution\")"
   ]
  },
  {
   "cell_type": "markdown",
   "metadata": {},
   "source": [
    "<div style=\"font-weight:700\">As written at the beginning of the notebook, I remove some features with no further analyses.</div>"
   ]
  },
  {
   "cell_type": "code",
   "execution_count": 14,
   "metadata": {},
   "outputs": [
    {
     "data": {
      "text/html": [
       "<div>\n",
       "<style scoped>\n",
       "    .dataframe tbody tr th:only-of-type {\n",
       "        vertical-align: middle;\n",
       "    }\n",
       "\n",
       "    .dataframe tbody tr th {\n",
       "        vertical-align: top;\n",
       "    }\n",
       "\n",
       "    .dataframe thead th {\n",
       "        text-align: right;\n",
       "    }\n",
       "</style>\n",
       "<table border=\"1\" class=\"dataframe\">\n",
       "  <thead>\n",
       "    <tr style=\"text-align: right;\">\n",
       "      <th></th>\n",
       "      <th>Survived</th>\n",
       "      <th>Pclass</th>\n",
       "      <th>Sex</th>\n",
       "      <th>Age</th>\n",
       "      <th>Fare</th>\n",
       "    </tr>\n",
       "  </thead>\n",
       "  <tbody>\n",
       "    <tr>\n",
       "      <th>0</th>\n",
       "      <td>0</td>\n",
       "      <td>3</td>\n",
       "      <td>male</td>\n",
       "      <td>22.0</td>\n",
       "      <td>7.2500</td>\n",
       "    </tr>\n",
       "    <tr>\n",
       "      <th>1</th>\n",
       "      <td>1</td>\n",
       "      <td>1</td>\n",
       "      <td>female</td>\n",
       "      <td>38.0</td>\n",
       "      <td>71.2833</td>\n",
       "    </tr>\n",
       "    <tr>\n",
       "      <th>2</th>\n",
       "      <td>1</td>\n",
       "      <td>3</td>\n",
       "      <td>female</td>\n",
       "      <td>26.0</td>\n",
       "      <td>7.9250</td>\n",
       "    </tr>\n",
       "    <tr>\n",
       "      <th>3</th>\n",
       "      <td>1</td>\n",
       "      <td>1</td>\n",
       "      <td>female</td>\n",
       "      <td>35.0</td>\n",
       "      <td>53.1000</td>\n",
       "    </tr>\n",
       "    <tr>\n",
       "      <th>4</th>\n",
       "      <td>0</td>\n",
       "      <td>3</td>\n",
       "      <td>male</td>\n",
       "      <td>35.0</td>\n",
       "      <td>8.0500</td>\n",
       "    </tr>\n",
       "  </tbody>\n",
       "</table>\n",
       "</div>"
      ],
      "text/plain": [
       "   Survived  Pclass     Sex   Age     Fare\n",
       "0         0       3    male  22.0   7.2500\n",
       "1         1       1  female  38.0  71.2833\n",
       "2         1       3  female  26.0   7.9250\n",
       "3         1       1  female  35.0  53.1000\n",
       "4         0       3    male  35.0   8.0500"
      ]
     },
     "execution_count": 14,
     "metadata": {},
     "output_type": "execute_result"
    }
   ],
   "source": [
    "data = data.drop([\"Embarked\", \"Parch\", \"SibSp\"], axis=1)\n",
    "data.head()"
   ]
  },
  {
   "cell_type": "markdown",
   "metadata": {},
   "source": [
    "# 5. Preparing model inputs"
   ]
  },
  {
   "cell_type": "code",
   "execution_count": 15,
   "metadata": {},
   "outputs": [],
   "source": [
    "X_train = data.drop([\"Survived\"], axis=1).copy()\n",
    "y_train = data[\"Survived\"].copy()"
   ]
  },
  {
   "cell_type": "markdown",
   "metadata": {},
   "source": [
    "# 6. Pipelines"
   ]
  },
  {
   "cell_type": "markdown",
   "metadata": {},
   "source": [
    "## Pipeline for numeric features"
   ]
  },
  {
   "cell_type": "code",
   "execution_count": 16,
   "metadata": {},
   "outputs": [
    {
     "data": {
      "text/html": [
       "<style>#sk-76011946-3cce-40df-af06-5537c10592e1 {color: black;background-color: white;}#sk-76011946-3cce-40df-af06-5537c10592e1 pre{padding: 0;}#sk-76011946-3cce-40df-af06-5537c10592e1 div.sk-toggleable {background-color: white;}#sk-76011946-3cce-40df-af06-5537c10592e1 label.sk-toggleable__label {cursor: pointer;display: block;width: 100%;margin-bottom: 0;padding: 0.2em 0.3em;box-sizing: border-box;text-align: center;}#sk-76011946-3cce-40df-af06-5537c10592e1 div.sk-toggleable__content {max-height: 0;max-width: 0;overflow: hidden;text-align: left;background-color: #f0f8ff;}#sk-76011946-3cce-40df-af06-5537c10592e1 div.sk-toggleable__content pre {margin: 0.2em;color: black;border-radius: 0.25em;background-color: #f0f8ff;}#sk-76011946-3cce-40df-af06-5537c10592e1 input.sk-toggleable__control:checked~div.sk-toggleable__content {max-height: 200px;max-width: 100%;overflow: auto;}#sk-76011946-3cce-40df-af06-5537c10592e1 div.sk-estimator input.sk-toggleable__control:checked~label.sk-toggleable__label {background-color: #d4ebff;}#sk-76011946-3cce-40df-af06-5537c10592e1 div.sk-label input.sk-toggleable__control:checked~label.sk-toggleable__label {background-color: #d4ebff;}#sk-76011946-3cce-40df-af06-5537c10592e1 input.sk-hidden--visually {border: 0;clip: rect(1px 1px 1px 1px);clip: rect(1px, 1px, 1px, 1px);height: 1px;margin: -1px;overflow: hidden;padding: 0;position: absolute;width: 1px;}#sk-76011946-3cce-40df-af06-5537c10592e1 div.sk-estimator {font-family: monospace;background-color: #f0f8ff;margin: 0.25em 0.25em;border: 1px dotted black;border-radius: 0.25em;box-sizing: border-box;}#sk-76011946-3cce-40df-af06-5537c10592e1 div.sk-estimator:hover {background-color: #d4ebff;}#sk-76011946-3cce-40df-af06-5537c10592e1 div.sk-parallel-item::after {content: \"\";width: 100%;border-bottom: 1px solid gray;flex-grow: 1;}#sk-76011946-3cce-40df-af06-5537c10592e1 div.sk-label:hover label.sk-toggleable__label {background-color: #d4ebff;}#sk-76011946-3cce-40df-af06-5537c10592e1 div.sk-serial::before {content: \"\";position: absolute;border-left: 1px solid gray;box-sizing: border-box;top: 2em;bottom: 0;left: 50%;}#sk-76011946-3cce-40df-af06-5537c10592e1 div.sk-serial {display: flex;flex-direction: column;align-items: center;background-color: white;}#sk-76011946-3cce-40df-af06-5537c10592e1 div.sk-item {z-index: 1;}#sk-76011946-3cce-40df-af06-5537c10592e1 div.sk-parallel {display: flex;align-items: stretch;justify-content: center;background-color: white;}#sk-76011946-3cce-40df-af06-5537c10592e1 div.sk-parallel-item {display: flex;flex-direction: column;position: relative;background-color: white;}#sk-76011946-3cce-40df-af06-5537c10592e1 div.sk-parallel-item:first-child::after {align-self: flex-end;width: 50%;}#sk-76011946-3cce-40df-af06-5537c10592e1 div.sk-parallel-item:last-child::after {align-self: flex-start;width: 50%;}#sk-76011946-3cce-40df-af06-5537c10592e1 div.sk-parallel-item:only-child::after {width: 0;}#sk-76011946-3cce-40df-af06-5537c10592e1 div.sk-dashed-wrapped {border: 1px dashed gray;margin: 0.2em;box-sizing: border-box;padding-bottom: 0.1em;background-color: white;position: relative;}#sk-76011946-3cce-40df-af06-5537c10592e1 div.sk-label label {font-family: monospace;font-weight: bold;background-color: white;display: inline-block;line-height: 1.2em;}#sk-76011946-3cce-40df-af06-5537c10592e1 div.sk-label-container {position: relative;z-index: 2;text-align: center;}#sk-76011946-3cce-40df-af06-5537c10592e1 div.sk-container {display: inline-block;position: relative;}</style><div id=\"sk-76011946-3cce-40df-af06-5537c10592e1\" class\"sk-top-container\"><div class=\"sk-container\"><div class=\"sk-item sk-dashed-wrapped\"><div class=\"sk-label-container\"><div class=\"sk-label sk-toggleable\"><input class=\"sk-toggleable__control sk-hidden--visually\" id=\"a7b4f320-15de-49b6-b5a0-0e6b13627b6e\" type=\"checkbox\" ><label class=\"sk-toggleable__label\" for=\"a7b4f320-15de-49b6-b5a0-0e6b13627b6e\">Pipeline</label><div class=\"sk-toggleable__content\"><pre>Pipeline(steps=[('imputer', SimpleImputer())])</pre></div></div></div><div class=\"sk-serial\"><div class=\"sk-item\"><div class=\"sk-estimator sk-toggleable\"><input class=\"sk-toggleable__control sk-hidden--visually\" id=\"520d6200-3245-4d90-a064-21d3100ce8cb\" type=\"checkbox\" ><label class=\"sk-toggleable__label\" for=\"520d6200-3245-4d90-a064-21d3100ce8cb\">SimpleImputer</label><div class=\"sk-toggleable__content\"><pre>SimpleImputer()</pre></div></div></div></div></div></div></div>"
      ],
      "text/plain": [
       "Pipeline(steps=[('imputer', SimpleImputer())])"
      ]
     },
     "execution_count": 16,
     "metadata": {},
     "output_type": "execute_result"
    }
   ],
   "source": [
    "pipe_numeric = Pipeline([\n",
    "    ('imputer', SimpleImputer(strategy = 'mean'))\n",
    "])\n",
    "pipe_numeric"
   ]
  },
  {
   "cell_type": "markdown",
   "metadata": {},
   "source": [
    "## Pipeline for multiclass features"
   ]
  },
  {
   "cell_type": "code",
   "execution_count": 17,
   "metadata": {},
   "outputs": [
    {
     "data": {
      "text/html": [
       "<style>#sk-e152e66e-317a-4c55-9269-8ee787e0ff62 {color: black;background-color: white;}#sk-e152e66e-317a-4c55-9269-8ee787e0ff62 pre{padding: 0;}#sk-e152e66e-317a-4c55-9269-8ee787e0ff62 div.sk-toggleable {background-color: white;}#sk-e152e66e-317a-4c55-9269-8ee787e0ff62 label.sk-toggleable__label {cursor: pointer;display: block;width: 100%;margin-bottom: 0;padding: 0.2em 0.3em;box-sizing: border-box;text-align: center;}#sk-e152e66e-317a-4c55-9269-8ee787e0ff62 div.sk-toggleable__content {max-height: 0;max-width: 0;overflow: hidden;text-align: left;background-color: #f0f8ff;}#sk-e152e66e-317a-4c55-9269-8ee787e0ff62 div.sk-toggleable__content pre {margin: 0.2em;color: black;border-radius: 0.25em;background-color: #f0f8ff;}#sk-e152e66e-317a-4c55-9269-8ee787e0ff62 input.sk-toggleable__control:checked~div.sk-toggleable__content {max-height: 200px;max-width: 100%;overflow: auto;}#sk-e152e66e-317a-4c55-9269-8ee787e0ff62 div.sk-estimator input.sk-toggleable__control:checked~label.sk-toggleable__label {background-color: #d4ebff;}#sk-e152e66e-317a-4c55-9269-8ee787e0ff62 div.sk-label input.sk-toggleable__control:checked~label.sk-toggleable__label {background-color: #d4ebff;}#sk-e152e66e-317a-4c55-9269-8ee787e0ff62 input.sk-hidden--visually {border: 0;clip: rect(1px 1px 1px 1px);clip: rect(1px, 1px, 1px, 1px);height: 1px;margin: -1px;overflow: hidden;padding: 0;position: absolute;width: 1px;}#sk-e152e66e-317a-4c55-9269-8ee787e0ff62 div.sk-estimator {font-family: monospace;background-color: #f0f8ff;margin: 0.25em 0.25em;border: 1px dotted black;border-radius: 0.25em;box-sizing: border-box;}#sk-e152e66e-317a-4c55-9269-8ee787e0ff62 div.sk-estimator:hover {background-color: #d4ebff;}#sk-e152e66e-317a-4c55-9269-8ee787e0ff62 div.sk-parallel-item::after {content: \"\";width: 100%;border-bottom: 1px solid gray;flex-grow: 1;}#sk-e152e66e-317a-4c55-9269-8ee787e0ff62 div.sk-label:hover label.sk-toggleable__label {background-color: #d4ebff;}#sk-e152e66e-317a-4c55-9269-8ee787e0ff62 div.sk-serial::before {content: \"\";position: absolute;border-left: 1px solid gray;box-sizing: border-box;top: 2em;bottom: 0;left: 50%;}#sk-e152e66e-317a-4c55-9269-8ee787e0ff62 div.sk-serial {display: flex;flex-direction: column;align-items: center;background-color: white;}#sk-e152e66e-317a-4c55-9269-8ee787e0ff62 div.sk-item {z-index: 1;}#sk-e152e66e-317a-4c55-9269-8ee787e0ff62 div.sk-parallel {display: flex;align-items: stretch;justify-content: center;background-color: white;}#sk-e152e66e-317a-4c55-9269-8ee787e0ff62 div.sk-parallel-item {display: flex;flex-direction: column;position: relative;background-color: white;}#sk-e152e66e-317a-4c55-9269-8ee787e0ff62 div.sk-parallel-item:first-child::after {align-self: flex-end;width: 50%;}#sk-e152e66e-317a-4c55-9269-8ee787e0ff62 div.sk-parallel-item:last-child::after {align-self: flex-start;width: 50%;}#sk-e152e66e-317a-4c55-9269-8ee787e0ff62 div.sk-parallel-item:only-child::after {width: 0;}#sk-e152e66e-317a-4c55-9269-8ee787e0ff62 div.sk-dashed-wrapped {border: 1px dashed gray;margin: 0.2em;box-sizing: border-box;padding-bottom: 0.1em;background-color: white;position: relative;}#sk-e152e66e-317a-4c55-9269-8ee787e0ff62 div.sk-label label {font-family: monospace;font-weight: bold;background-color: white;display: inline-block;line-height: 1.2em;}#sk-e152e66e-317a-4c55-9269-8ee787e0ff62 div.sk-label-container {position: relative;z-index: 2;text-align: center;}#sk-e152e66e-317a-4c55-9269-8ee787e0ff62 div.sk-container {display: inline-block;position: relative;}</style><div id=\"sk-e152e66e-317a-4c55-9269-8ee787e0ff62\" class\"sk-top-container\"><div class=\"sk-container\"><div class=\"sk-item sk-dashed-wrapped\"><div class=\"sk-label-container\"><div class=\"sk-label sk-toggleable\"><input class=\"sk-toggleable__control sk-hidden--visually\" id=\"13cc4ae0-cbc8-4c1f-bfa2-4dd0e187e481\" type=\"checkbox\" ><label class=\"sk-toggleable__label\" for=\"13cc4ae0-cbc8-4c1f-bfa2-4dd0e187e481\">Pipeline</label><div class=\"sk-toggleable__content\"><pre>Pipeline(steps=[('imputer', SimpleImputer(strategy='most_frequent')),\n",
       "                ('encoder', OneHotEncoder(sparse=False))])</pre></div></div></div><div class=\"sk-serial\"><div class=\"sk-item\"><div class=\"sk-estimator sk-toggleable\"><input class=\"sk-toggleable__control sk-hidden--visually\" id=\"f400aa81-6fe8-4508-abfb-42c948cabdf0\" type=\"checkbox\" ><label class=\"sk-toggleable__label\" for=\"f400aa81-6fe8-4508-abfb-42c948cabdf0\">SimpleImputer</label><div class=\"sk-toggleable__content\"><pre>SimpleImputer(strategy='most_frequent')</pre></div></div></div><div class=\"sk-item\"><div class=\"sk-estimator sk-toggleable\"><input class=\"sk-toggleable__control sk-hidden--visually\" id=\"7f2ade39-e148-4889-a010-8b0f1eae8c21\" type=\"checkbox\" ><label class=\"sk-toggleable__label\" for=\"7f2ade39-e148-4889-a010-8b0f1eae8c21\">OneHotEncoder</label><div class=\"sk-toggleable__content\"><pre>OneHotEncoder(sparse=False)</pre></div></div></div></div></div></div></div>"
      ],
      "text/plain": [
       "Pipeline(steps=[('imputer', SimpleImputer(strategy='most_frequent')),\n",
       "                ('encoder', OneHotEncoder(sparse=False))])"
      ]
     },
     "execution_count": 17,
     "metadata": {},
     "output_type": "execute_result"
    }
   ],
   "source": [
    "pipe_multiclass = Pipeline([\n",
    "    ('imputer', SimpleImputer(strategy = 'most_frequent')),\n",
    "    ('encoder', OneHotEncoder(sparse=False))\n",
    "])\n",
    "pipe_multiclass"
   ]
  },
  {
   "cell_type": "markdown",
   "metadata": {},
   "source": [
    "## Pipeline for binary features"
   ]
  },
  {
   "cell_type": "code",
   "execution_count": 18,
   "metadata": {},
   "outputs": [
    {
     "data": {
      "text/html": [
       "<style>#sk-4a20a0e8-1e25-42eb-b0da-6c5250fe5e3c {color: black;background-color: white;}#sk-4a20a0e8-1e25-42eb-b0da-6c5250fe5e3c pre{padding: 0;}#sk-4a20a0e8-1e25-42eb-b0da-6c5250fe5e3c div.sk-toggleable {background-color: white;}#sk-4a20a0e8-1e25-42eb-b0da-6c5250fe5e3c label.sk-toggleable__label {cursor: pointer;display: block;width: 100%;margin-bottom: 0;padding: 0.2em 0.3em;box-sizing: border-box;text-align: center;}#sk-4a20a0e8-1e25-42eb-b0da-6c5250fe5e3c div.sk-toggleable__content {max-height: 0;max-width: 0;overflow: hidden;text-align: left;background-color: #f0f8ff;}#sk-4a20a0e8-1e25-42eb-b0da-6c5250fe5e3c div.sk-toggleable__content pre {margin: 0.2em;color: black;border-radius: 0.25em;background-color: #f0f8ff;}#sk-4a20a0e8-1e25-42eb-b0da-6c5250fe5e3c input.sk-toggleable__control:checked~div.sk-toggleable__content {max-height: 200px;max-width: 100%;overflow: auto;}#sk-4a20a0e8-1e25-42eb-b0da-6c5250fe5e3c div.sk-estimator input.sk-toggleable__control:checked~label.sk-toggleable__label {background-color: #d4ebff;}#sk-4a20a0e8-1e25-42eb-b0da-6c5250fe5e3c div.sk-label input.sk-toggleable__control:checked~label.sk-toggleable__label {background-color: #d4ebff;}#sk-4a20a0e8-1e25-42eb-b0da-6c5250fe5e3c input.sk-hidden--visually {border: 0;clip: rect(1px 1px 1px 1px);clip: rect(1px, 1px, 1px, 1px);height: 1px;margin: -1px;overflow: hidden;padding: 0;position: absolute;width: 1px;}#sk-4a20a0e8-1e25-42eb-b0da-6c5250fe5e3c div.sk-estimator {font-family: monospace;background-color: #f0f8ff;margin: 0.25em 0.25em;border: 1px dotted black;border-radius: 0.25em;box-sizing: border-box;}#sk-4a20a0e8-1e25-42eb-b0da-6c5250fe5e3c div.sk-estimator:hover {background-color: #d4ebff;}#sk-4a20a0e8-1e25-42eb-b0da-6c5250fe5e3c div.sk-parallel-item::after {content: \"\";width: 100%;border-bottom: 1px solid gray;flex-grow: 1;}#sk-4a20a0e8-1e25-42eb-b0da-6c5250fe5e3c div.sk-label:hover label.sk-toggleable__label {background-color: #d4ebff;}#sk-4a20a0e8-1e25-42eb-b0da-6c5250fe5e3c div.sk-serial::before {content: \"\";position: absolute;border-left: 1px solid gray;box-sizing: border-box;top: 2em;bottom: 0;left: 50%;}#sk-4a20a0e8-1e25-42eb-b0da-6c5250fe5e3c div.sk-serial {display: flex;flex-direction: column;align-items: center;background-color: white;}#sk-4a20a0e8-1e25-42eb-b0da-6c5250fe5e3c div.sk-item {z-index: 1;}#sk-4a20a0e8-1e25-42eb-b0da-6c5250fe5e3c div.sk-parallel {display: flex;align-items: stretch;justify-content: center;background-color: white;}#sk-4a20a0e8-1e25-42eb-b0da-6c5250fe5e3c div.sk-parallel-item {display: flex;flex-direction: column;position: relative;background-color: white;}#sk-4a20a0e8-1e25-42eb-b0da-6c5250fe5e3c div.sk-parallel-item:first-child::after {align-self: flex-end;width: 50%;}#sk-4a20a0e8-1e25-42eb-b0da-6c5250fe5e3c div.sk-parallel-item:last-child::after {align-self: flex-start;width: 50%;}#sk-4a20a0e8-1e25-42eb-b0da-6c5250fe5e3c div.sk-parallel-item:only-child::after {width: 0;}#sk-4a20a0e8-1e25-42eb-b0da-6c5250fe5e3c div.sk-dashed-wrapped {border: 1px dashed gray;margin: 0.2em;box-sizing: border-box;padding-bottom: 0.1em;background-color: white;position: relative;}#sk-4a20a0e8-1e25-42eb-b0da-6c5250fe5e3c div.sk-label label {font-family: monospace;font-weight: bold;background-color: white;display: inline-block;line-height: 1.2em;}#sk-4a20a0e8-1e25-42eb-b0da-6c5250fe5e3c div.sk-label-container {position: relative;z-index: 2;text-align: center;}#sk-4a20a0e8-1e25-42eb-b0da-6c5250fe5e3c div.sk-container {display: inline-block;position: relative;}</style><div id=\"sk-4a20a0e8-1e25-42eb-b0da-6c5250fe5e3c\" class\"sk-top-container\"><div class=\"sk-container\"><div class=\"sk-item sk-dashed-wrapped\"><div class=\"sk-label-container\"><div class=\"sk-label sk-toggleable\"><input class=\"sk-toggleable__control sk-hidden--visually\" id=\"29a5ecad-a6d9-4537-be36-ad538503a0fc\" type=\"checkbox\" ><label class=\"sk-toggleable__label\" for=\"29a5ecad-a6d9-4537-be36-ad538503a0fc\">Pipeline</label><div class=\"sk-toggleable__content\"><pre>Pipeline(steps=[('encoder', OneHotEncoder(drop='if_binary', sparse=False))])</pre></div></div></div><div class=\"sk-serial\"><div class=\"sk-item\"><div class=\"sk-estimator sk-toggleable\"><input class=\"sk-toggleable__control sk-hidden--visually\" id=\"cbace546-c2b0-488c-bc8b-78cdeb5dad9f\" type=\"checkbox\" ><label class=\"sk-toggleable__label\" for=\"cbace546-c2b0-488c-bc8b-78cdeb5dad9f\">OneHotEncoder</label><div class=\"sk-toggleable__content\"><pre>OneHotEncoder(drop='if_binary', sparse=False)</pre></div></div></div></div></div></div></div>"
      ],
      "text/plain": [
       "Pipeline(steps=[('encoder', OneHotEncoder(drop='if_binary', sparse=False))])"
      ]
     },
     "execution_count": 18,
     "metadata": {},
     "output_type": "execute_result"
    }
   ],
   "source": [
    "pipe_binary = Pipeline([\n",
    "    ('encoder', OneHotEncoder(sparse=False, drop='if_binary'))\n",
    "])\n",
    "pipe_binary"
   ]
  },
  {
   "cell_type": "markdown",
   "metadata": {},
   "source": [
    "## Impute and encode pipeline combination"
   ]
  },
  {
   "cell_type": "code",
   "execution_count": 19,
   "metadata": {},
   "outputs": [
    {
     "data": {
      "text/html": [
       "<style>#sk-72e32118-48e0-42d4-b1be-8b4e87b00ea8 {color: black;background-color: white;}#sk-72e32118-48e0-42d4-b1be-8b4e87b00ea8 pre{padding: 0;}#sk-72e32118-48e0-42d4-b1be-8b4e87b00ea8 div.sk-toggleable {background-color: white;}#sk-72e32118-48e0-42d4-b1be-8b4e87b00ea8 label.sk-toggleable__label {cursor: pointer;display: block;width: 100%;margin-bottom: 0;padding: 0.2em 0.3em;box-sizing: border-box;text-align: center;}#sk-72e32118-48e0-42d4-b1be-8b4e87b00ea8 div.sk-toggleable__content {max-height: 0;max-width: 0;overflow: hidden;text-align: left;background-color: #f0f8ff;}#sk-72e32118-48e0-42d4-b1be-8b4e87b00ea8 div.sk-toggleable__content pre {margin: 0.2em;color: black;border-radius: 0.25em;background-color: #f0f8ff;}#sk-72e32118-48e0-42d4-b1be-8b4e87b00ea8 input.sk-toggleable__control:checked~div.sk-toggleable__content {max-height: 200px;max-width: 100%;overflow: auto;}#sk-72e32118-48e0-42d4-b1be-8b4e87b00ea8 div.sk-estimator input.sk-toggleable__control:checked~label.sk-toggleable__label {background-color: #d4ebff;}#sk-72e32118-48e0-42d4-b1be-8b4e87b00ea8 div.sk-label input.sk-toggleable__control:checked~label.sk-toggleable__label {background-color: #d4ebff;}#sk-72e32118-48e0-42d4-b1be-8b4e87b00ea8 input.sk-hidden--visually {border: 0;clip: rect(1px 1px 1px 1px);clip: rect(1px, 1px, 1px, 1px);height: 1px;margin: -1px;overflow: hidden;padding: 0;position: absolute;width: 1px;}#sk-72e32118-48e0-42d4-b1be-8b4e87b00ea8 div.sk-estimator {font-family: monospace;background-color: #f0f8ff;margin: 0.25em 0.25em;border: 1px dotted black;border-radius: 0.25em;box-sizing: border-box;}#sk-72e32118-48e0-42d4-b1be-8b4e87b00ea8 div.sk-estimator:hover {background-color: #d4ebff;}#sk-72e32118-48e0-42d4-b1be-8b4e87b00ea8 div.sk-parallel-item::after {content: \"\";width: 100%;border-bottom: 1px solid gray;flex-grow: 1;}#sk-72e32118-48e0-42d4-b1be-8b4e87b00ea8 div.sk-label:hover label.sk-toggleable__label {background-color: #d4ebff;}#sk-72e32118-48e0-42d4-b1be-8b4e87b00ea8 div.sk-serial::before {content: \"\";position: absolute;border-left: 1px solid gray;box-sizing: border-box;top: 2em;bottom: 0;left: 50%;}#sk-72e32118-48e0-42d4-b1be-8b4e87b00ea8 div.sk-serial {display: flex;flex-direction: column;align-items: center;background-color: white;}#sk-72e32118-48e0-42d4-b1be-8b4e87b00ea8 div.sk-item {z-index: 1;}#sk-72e32118-48e0-42d4-b1be-8b4e87b00ea8 div.sk-parallel {display: flex;align-items: stretch;justify-content: center;background-color: white;}#sk-72e32118-48e0-42d4-b1be-8b4e87b00ea8 div.sk-parallel-item {display: flex;flex-direction: column;position: relative;background-color: white;}#sk-72e32118-48e0-42d4-b1be-8b4e87b00ea8 div.sk-parallel-item:first-child::after {align-self: flex-end;width: 50%;}#sk-72e32118-48e0-42d4-b1be-8b4e87b00ea8 div.sk-parallel-item:last-child::after {align-self: flex-start;width: 50%;}#sk-72e32118-48e0-42d4-b1be-8b4e87b00ea8 div.sk-parallel-item:only-child::after {width: 0;}#sk-72e32118-48e0-42d4-b1be-8b4e87b00ea8 div.sk-dashed-wrapped {border: 1px dashed gray;margin: 0.2em;box-sizing: border-box;padding-bottom: 0.1em;background-color: white;position: relative;}#sk-72e32118-48e0-42d4-b1be-8b4e87b00ea8 div.sk-label label {font-family: monospace;font-weight: bold;background-color: white;display: inline-block;line-height: 1.2em;}#sk-72e32118-48e0-42d4-b1be-8b4e87b00ea8 div.sk-label-container {position: relative;z-index: 2;text-align: center;}#sk-72e32118-48e0-42d4-b1be-8b4e87b00ea8 div.sk-container {display: inline-block;position: relative;}</style><div id=\"sk-72e32118-48e0-42d4-b1be-8b4e87b00ea8\" class\"sk-top-container\"><div class=\"sk-container\"><div class=\"sk-item sk-dashed-wrapped\"><div class=\"sk-label-container\"><div class=\"sk-label sk-toggleable\"><input class=\"sk-toggleable__control sk-hidden--visually\" id=\"573a4577-bbf9-4ef1-a8af-0ed991e34976\" type=\"checkbox\" ><label class=\"sk-toggleable__label\" for=\"573a4577-bbf9-4ef1-a8af-0ed991e34976\">ColumnTransformer</label><div class=\"sk-toggleable__content\"><pre>ColumnTransformer(transformers=[('binary',\n",
       "                                 Pipeline(steps=[('encoder',\n",
       "                                                  OneHotEncoder(drop='if_binary',\n",
       "                                                                sparse=False))]),\n",
       "                                 ['Sex']),\n",
       "                                ('numeric',\n",
       "                                 Pipeline(steps=[('imputer', SimpleImputer())]),\n",
       "                                 ['Age', 'Fare']),\n",
       "                                ('multiclass',\n",
       "                                 Pipeline(steps=[('imputer',\n",
       "                                                  SimpleImputer(strategy='most_frequent')),\n",
       "                                                 ('encoder',\n",
       "                                                  OneHotEncoder(sparse=False))]),\n",
       "                                 ['Pclass'])])</pre></div></div></div><div class=\"sk-parallel\"><div class=\"sk-parallel-item\"><div class=\"sk-item\"><div class=\"sk-label-container\"><div class=\"sk-label sk-toggleable\"><input class=\"sk-toggleable__control sk-hidden--visually\" id=\"922b3d46-7736-47da-909c-2a9bc1d4ff42\" type=\"checkbox\" ><label class=\"sk-toggleable__label\" for=\"922b3d46-7736-47da-909c-2a9bc1d4ff42\">binary</label><div class=\"sk-toggleable__content\"><pre>['Sex']</pre></div></div></div><div class=\"sk-serial\"><div class=\"sk-item\"><div class=\"sk-serial\"><div class=\"sk-item\"><div class=\"sk-estimator sk-toggleable\"><input class=\"sk-toggleable__control sk-hidden--visually\" id=\"52ddf2dd-d29f-4f2f-a7f1-a46027d8c0ad\" type=\"checkbox\" ><label class=\"sk-toggleable__label\" for=\"52ddf2dd-d29f-4f2f-a7f1-a46027d8c0ad\">OneHotEncoder</label><div class=\"sk-toggleable__content\"><pre>OneHotEncoder(drop='if_binary', sparse=False)</pre></div></div></div></div></div></div></div></div><div class=\"sk-parallel-item\"><div class=\"sk-item\"><div class=\"sk-label-container\"><div class=\"sk-label sk-toggleable\"><input class=\"sk-toggleable__control sk-hidden--visually\" id=\"e332e3e5-27b5-4eaa-970d-42bf81fdce1f\" type=\"checkbox\" ><label class=\"sk-toggleable__label\" for=\"e332e3e5-27b5-4eaa-970d-42bf81fdce1f\">numeric</label><div class=\"sk-toggleable__content\"><pre>['Age', 'Fare']</pre></div></div></div><div class=\"sk-serial\"><div class=\"sk-item\"><div class=\"sk-serial\"><div class=\"sk-item\"><div class=\"sk-estimator sk-toggleable\"><input class=\"sk-toggleable__control sk-hidden--visually\" id=\"04b6c1ab-d91d-4367-aafe-ef3640d10b79\" type=\"checkbox\" ><label class=\"sk-toggleable__label\" for=\"04b6c1ab-d91d-4367-aafe-ef3640d10b79\">SimpleImputer</label><div class=\"sk-toggleable__content\"><pre>SimpleImputer()</pre></div></div></div></div></div></div></div></div><div class=\"sk-parallel-item\"><div class=\"sk-item\"><div class=\"sk-label-container\"><div class=\"sk-label sk-toggleable\"><input class=\"sk-toggleable__control sk-hidden--visually\" id=\"17a846fc-b490-4a33-ac9e-d2308d96cd51\" type=\"checkbox\" ><label class=\"sk-toggleable__label\" for=\"17a846fc-b490-4a33-ac9e-d2308d96cd51\">multiclass</label><div class=\"sk-toggleable__content\"><pre>['Pclass']</pre></div></div></div><div class=\"sk-serial\"><div class=\"sk-item\"><div class=\"sk-serial\"><div class=\"sk-item\"><div class=\"sk-estimator sk-toggleable\"><input class=\"sk-toggleable__control sk-hidden--visually\" id=\"26601978-14f2-48dc-9b39-2bc9638957e6\" type=\"checkbox\" ><label class=\"sk-toggleable__label\" for=\"26601978-14f2-48dc-9b39-2bc9638957e6\">SimpleImputer</label><div class=\"sk-toggleable__content\"><pre>SimpleImputer(strategy='most_frequent')</pre></div></div></div><div class=\"sk-item\"><div class=\"sk-estimator sk-toggleable\"><input class=\"sk-toggleable__control sk-hidden--visually\" id=\"8ab20786-2206-40ef-ab42-859e074f094c\" type=\"checkbox\" ><label class=\"sk-toggleable__label\" for=\"8ab20786-2206-40ef-ab42-859e074f094c\">OneHotEncoder</label><div class=\"sk-toggleable__content\"><pre>OneHotEncoder(sparse=False)</pre></div></div></div></div></div></div></div></div></div></div></div></div>"
      ],
      "text/plain": [
       "ColumnTransformer(transformers=[('binary',\n",
       "                                 Pipeline(steps=[('encoder',\n",
       "                                                  OneHotEncoder(drop='if_binary',\n",
       "                                                                sparse=False))]),\n",
       "                                 ['Sex']),\n",
       "                                ('numeric',\n",
       "                                 Pipeline(steps=[('imputer', SimpleImputer())]),\n",
       "                                 ['Age', 'Fare']),\n",
       "                                ('multiclass',\n",
       "                                 Pipeline(steps=[('imputer',\n",
       "                                                  SimpleImputer(strategy='most_frequent')),\n",
       "                                                 ('encoder',\n",
       "                                                  OneHotEncoder(sparse=False))]),\n",
       "                                 ['Pclass'])])"
      ]
     },
     "execution_count": 19,
     "metadata": {},
     "output_type": "execute_result"
    }
   ],
   "source": [
    "impute_and_encode = ColumnTransformer([\n",
    "    ('binary', pipe_binary, [\"Sex\"]),\n",
    "    ('numeric', pipe_numeric, [\"Age\", \"Fare\"]),\n",
    "    ('multiclass', pipe_multiclass, [\"Pclass\"])])\n",
    "impute_and_encode"
   ]
  },
  {
   "cell_type": "markdown",
   "metadata": {},
   "source": [
    "## Preprocessor pipeline"
   ]
  },
  {
   "cell_type": "code",
   "execution_count": 20,
   "metadata": {},
   "outputs": [],
   "source": [
    "preprocessor = Pipeline([(\"preproc\", impute_and_encode), \n",
    "                         (\"scaler\", StandardScaler())])"
   ]
  },
  {
   "cell_type": "markdown",
   "metadata": {},
   "source": [
    "<div style=\"font-weight:700\">Let's have an overview of the preprocessor pipeline output</div>"
   ]
  },
  {
   "cell_type": "code",
   "execution_count": 21,
   "metadata": {},
   "outputs": [
    {
     "data": {
      "text/html": [
       "<style>#sk-aa039252-d54b-401a-997e-9fbf4e2a0bc4 {color: black;background-color: white;}#sk-aa039252-d54b-401a-997e-9fbf4e2a0bc4 pre{padding: 0;}#sk-aa039252-d54b-401a-997e-9fbf4e2a0bc4 div.sk-toggleable {background-color: white;}#sk-aa039252-d54b-401a-997e-9fbf4e2a0bc4 label.sk-toggleable__label {cursor: pointer;display: block;width: 100%;margin-bottom: 0;padding: 0.2em 0.3em;box-sizing: border-box;text-align: center;}#sk-aa039252-d54b-401a-997e-9fbf4e2a0bc4 div.sk-toggleable__content {max-height: 0;max-width: 0;overflow: hidden;text-align: left;background-color: #f0f8ff;}#sk-aa039252-d54b-401a-997e-9fbf4e2a0bc4 div.sk-toggleable__content pre {margin: 0.2em;color: black;border-radius: 0.25em;background-color: #f0f8ff;}#sk-aa039252-d54b-401a-997e-9fbf4e2a0bc4 input.sk-toggleable__control:checked~div.sk-toggleable__content {max-height: 200px;max-width: 100%;overflow: auto;}#sk-aa039252-d54b-401a-997e-9fbf4e2a0bc4 div.sk-estimator input.sk-toggleable__control:checked~label.sk-toggleable__label {background-color: #d4ebff;}#sk-aa039252-d54b-401a-997e-9fbf4e2a0bc4 div.sk-label input.sk-toggleable__control:checked~label.sk-toggleable__label {background-color: #d4ebff;}#sk-aa039252-d54b-401a-997e-9fbf4e2a0bc4 input.sk-hidden--visually {border: 0;clip: rect(1px 1px 1px 1px);clip: rect(1px, 1px, 1px, 1px);height: 1px;margin: -1px;overflow: hidden;padding: 0;position: absolute;width: 1px;}#sk-aa039252-d54b-401a-997e-9fbf4e2a0bc4 div.sk-estimator {font-family: monospace;background-color: #f0f8ff;margin: 0.25em 0.25em;border: 1px dotted black;border-radius: 0.25em;box-sizing: border-box;}#sk-aa039252-d54b-401a-997e-9fbf4e2a0bc4 div.sk-estimator:hover {background-color: #d4ebff;}#sk-aa039252-d54b-401a-997e-9fbf4e2a0bc4 div.sk-parallel-item::after {content: \"\";width: 100%;border-bottom: 1px solid gray;flex-grow: 1;}#sk-aa039252-d54b-401a-997e-9fbf4e2a0bc4 div.sk-label:hover label.sk-toggleable__label {background-color: #d4ebff;}#sk-aa039252-d54b-401a-997e-9fbf4e2a0bc4 div.sk-serial::before {content: \"\";position: absolute;border-left: 1px solid gray;box-sizing: border-box;top: 2em;bottom: 0;left: 50%;}#sk-aa039252-d54b-401a-997e-9fbf4e2a0bc4 div.sk-serial {display: flex;flex-direction: column;align-items: center;background-color: white;}#sk-aa039252-d54b-401a-997e-9fbf4e2a0bc4 div.sk-item {z-index: 1;}#sk-aa039252-d54b-401a-997e-9fbf4e2a0bc4 div.sk-parallel {display: flex;align-items: stretch;justify-content: center;background-color: white;}#sk-aa039252-d54b-401a-997e-9fbf4e2a0bc4 div.sk-parallel-item {display: flex;flex-direction: column;position: relative;background-color: white;}#sk-aa039252-d54b-401a-997e-9fbf4e2a0bc4 div.sk-parallel-item:first-child::after {align-self: flex-end;width: 50%;}#sk-aa039252-d54b-401a-997e-9fbf4e2a0bc4 div.sk-parallel-item:last-child::after {align-self: flex-start;width: 50%;}#sk-aa039252-d54b-401a-997e-9fbf4e2a0bc4 div.sk-parallel-item:only-child::after {width: 0;}#sk-aa039252-d54b-401a-997e-9fbf4e2a0bc4 div.sk-dashed-wrapped {border: 1px dashed gray;margin: 0.2em;box-sizing: border-box;padding-bottom: 0.1em;background-color: white;position: relative;}#sk-aa039252-d54b-401a-997e-9fbf4e2a0bc4 div.sk-label label {font-family: monospace;font-weight: bold;background-color: white;display: inline-block;line-height: 1.2em;}#sk-aa039252-d54b-401a-997e-9fbf4e2a0bc4 div.sk-label-container {position: relative;z-index: 2;text-align: center;}#sk-aa039252-d54b-401a-997e-9fbf4e2a0bc4 div.sk-container {display: inline-block;position: relative;}</style><div id=\"sk-aa039252-d54b-401a-997e-9fbf4e2a0bc4\" class\"sk-top-container\"><div class=\"sk-container\"><div class=\"sk-item sk-dashed-wrapped\"><div class=\"sk-label-container\"><div class=\"sk-label sk-toggleable\"><input class=\"sk-toggleable__control sk-hidden--visually\" id=\"4f395d10-175d-407a-be20-ecd7ca3d8742\" type=\"checkbox\" ><label class=\"sk-toggleable__label\" for=\"4f395d10-175d-407a-be20-ecd7ca3d8742\">Pipeline</label><div class=\"sk-toggleable__content\"><pre>Pipeline(steps=[('preproc',\n",
       "                 ColumnTransformer(transformers=[('binary',\n",
       "                                                  Pipeline(steps=[('encoder',\n",
       "                                                                   OneHotEncoder(drop='if_binary',\n",
       "                                                                                 sparse=False))]),\n",
       "                                                  ['Sex']),\n",
       "                                                 ('numeric',\n",
       "                                                  Pipeline(steps=[('imputer',\n",
       "                                                                   SimpleImputer())]),\n",
       "                                                  ['Age', 'Fare']),\n",
       "                                                 ('multiclass',\n",
       "                                                  Pipeline(steps=[('imputer',\n",
       "                                                                   SimpleImputer(strategy='most_frequent')),\n",
       "                                                                  ('encoder',\n",
       "                                                                   OneHotEncoder(sparse=False))]),\n",
       "                                                  ['Pclass'])])),\n",
       "                ('scaler', StandardScaler())])</pre></div></div></div><div class=\"sk-serial\"><div class=\"sk-item sk-dashed-wrapped\"><div class=\"sk-label-container\"><div class=\"sk-label sk-toggleable\"><input class=\"sk-toggleable__control sk-hidden--visually\" id=\"6ffe9aca-e180-4d32-a500-9b9acad1d052\" type=\"checkbox\" ><label class=\"sk-toggleable__label\" for=\"6ffe9aca-e180-4d32-a500-9b9acad1d052\">preproc: ColumnTransformer</label><div class=\"sk-toggleable__content\"><pre>ColumnTransformer(transformers=[('binary',\n",
       "                                 Pipeline(steps=[('encoder',\n",
       "                                                  OneHotEncoder(drop='if_binary',\n",
       "                                                                sparse=False))]),\n",
       "                                 ['Sex']),\n",
       "                                ('numeric',\n",
       "                                 Pipeline(steps=[('imputer', SimpleImputer())]),\n",
       "                                 ['Age', 'Fare']),\n",
       "                                ('multiclass',\n",
       "                                 Pipeline(steps=[('imputer',\n",
       "                                                  SimpleImputer(strategy='most_frequent')),\n",
       "                                                 ('encoder',\n",
       "                                                  OneHotEncoder(sparse=False))]),\n",
       "                                 ['Pclass'])])</pre></div></div></div><div class=\"sk-parallel\"><div class=\"sk-parallel-item\"><div class=\"sk-item\"><div class=\"sk-label-container\"><div class=\"sk-label sk-toggleable\"><input class=\"sk-toggleable__control sk-hidden--visually\" id=\"e922c57f-d795-4afe-9794-e9045949f0f0\" type=\"checkbox\" ><label class=\"sk-toggleable__label\" for=\"e922c57f-d795-4afe-9794-e9045949f0f0\">binary</label><div class=\"sk-toggleable__content\"><pre>['Sex']</pre></div></div></div><div class=\"sk-serial\"><div class=\"sk-item\"><div class=\"sk-serial\"><div class=\"sk-item\"><div class=\"sk-estimator sk-toggleable\"><input class=\"sk-toggleable__control sk-hidden--visually\" id=\"f8589de4-3a0d-4c00-8a7f-97f610d8ce82\" type=\"checkbox\" ><label class=\"sk-toggleable__label\" for=\"f8589de4-3a0d-4c00-8a7f-97f610d8ce82\">OneHotEncoder</label><div class=\"sk-toggleable__content\"><pre>OneHotEncoder(drop='if_binary', sparse=False)</pre></div></div></div></div></div></div></div></div><div class=\"sk-parallel-item\"><div class=\"sk-item\"><div class=\"sk-label-container\"><div class=\"sk-label sk-toggleable\"><input class=\"sk-toggleable__control sk-hidden--visually\" id=\"c178541c-5c4c-465f-bf4e-27bc42064334\" type=\"checkbox\" ><label class=\"sk-toggleable__label\" for=\"c178541c-5c4c-465f-bf4e-27bc42064334\">numeric</label><div class=\"sk-toggleable__content\"><pre>['Age', 'Fare']</pre></div></div></div><div class=\"sk-serial\"><div class=\"sk-item\"><div class=\"sk-serial\"><div class=\"sk-item\"><div class=\"sk-estimator sk-toggleable\"><input class=\"sk-toggleable__control sk-hidden--visually\" id=\"aea346c2-99c8-4bfe-ae03-b44dd4359419\" type=\"checkbox\" ><label class=\"sk-toggleable__label\" for=\"aea346c2-99c8-4bfe-ae03-b44dd4359419\">SimpleImputer</label><div class=\"sk-toggleable__content\"><pre>SimpleImputer()</pre></div></div></div></div></div></div></div></div><div class=\"sk-parallel-item\"><div class=\"sk-item\"><div class=\"sk-label-container\"><div class=\"sk-label sk-toggleable\"><input class=\"sk-toggleable__control sk-hidden--visually\" id=\"bdfe0e61-4dc2-44f6-8209-8c17eef83dc7\" type=\"checkbox\" ><label class=\"sk-toggleable__label\" for=\"bdfe0e61-4dc2-44f6-8209-8c17eef83dc7\">multiclass</label><div class=\"sk-toggleable__content\"><pre>['Pclass']</pre></div></div></div><div class=\"sk-serial\"><div class=\"sk-item\"><div class=\"sk-serial\"><div class=\"sk-item\"><div class=\"sk-estimator sk-toggleable\"><input class=\"sk-toggleable__control sk-hidden--visually\" id=\"9e4d9fd3-4261-4d5d-acf1-b26b13d5848a\" type=\"checkbox\" ><label class=\"sk-toggleable__label\" for=\"9e4d9fd3-4261-4d5d-acf1-b26b13d5848a\">SimpleImputer</label><div class=\"sk-toggleable__content\"><pre>SimpleImputer(strategy='most_frequent')</pre></div></div></div><div class=\"sk-item\"><div class=\"sk-estimator sk-toggleable\"><input class=\"sk-toggleable__control sk-hidden--visually\" id=\"2964243d-9dde-4c4c-a608-3e44162a8e58\" type=\"checkbox\" ><label class=\"sk-toggleable__label\" for=\"2964243d-9dde-4c4c-a608-3e44162a8e58\">OneHotEncoder</label><div class=\"sk-toggleable__content\"><pre>OneHotEncoder(sparse=False)</pre></div></div></div></div></div></div></div></div></div></div><div class=\"sk-item\"><div class=\"sk-estimator sk-toggleable\"><input class=\"sk-toggleable__control sk-hidden--visually\" id=\"a840e86a-a2b2-4242-9ceb-32d5c3ed41e0\" type=\"checkbox\" ><label class=\"sk-toggleable__label\" for=\"a840e86a-a2b2-4242-9ceb-32d5c3ed41e0\">StandardScaler</label><div class=\"sk-toggleable__content\"><pre>StandardScaler()</pre></div></div></div></div></div></div></div>"
      ],
      "text/plain": [
       "Pipeline(steps=[('preproc',\n",
       "                 ColumnTransformer(transformers=[('binary',\n",
       "                                                  Pipeline(steps=[('encoder',\n",
       "                                                                   OneHotEncoder(drop='if_binary',\n",
       "                                                                                 sparse=False))]),\n",
       "                                                  ['Sex']),\n",
       "                                                 ('numeric',\n",
       "                                                  Pipeline(steps=[('imputer',\n",
       "                                                                   SimpleImputer())]),\n",
       "                                                  ['Age', 'Fare']),\n",
       "                                                 ('multiclass',\n",
       "                                                  Pipeline(steps=[('imputer',\n",
       "                                                                   SimpleImputer(strategy='most_frequent')),\n",
       "                                                                  ('encoder',\n",
       "                                                                   OneHotEncoder(sparse=False))]),\n",
       "                                                  ['Pclass'])])),\n",
       "                ('scaler', StandardScaler())])"
      ]
     },
     "execution_count": 21,
     "metadata": {},
     "output_type": "execute_result"
    }
   ],
   "source": [
    "preprocessor.fit(X_train)"
   ]
  },
  {
   "cell_type": "markdown",
   "metadata": {},
   "source": [
    "<div style=\"font-weight:700\">The output columns will be in the order of appearance in the ColumnTranformer pipe</div>"
   ]
  },
  {
   "cell_type": "code",
   "execution_count": 22,
   "metadata": {},
   "outputs": [],
   "source": [
    "output_pipe_columns = [\"Sex\", \"Age\", \"Fare\", \"Pclass1\", \"Pclass2\", \"Pclass3\"]"
   ]
  },
  {
   "cell_type": "code",
   "execution_count": 23,
   "metadata": {},
   "outputs": [
    {
     "data": {
      "text/html": [
       "<div>\n",
       "<style scoped>\n",
       "    .dataframe tbody tr th:only-of-type {\n",
       "        vertical-align: middle;\n",
       "    }\n",
       "\n",
       "    .dataframe tbody tr th {\n",
       "        vertical-align: top;\n",
       "    }\n",
       "\n",
       "    .dataframe thead th {\n",
       "        text-align: right;\n",
       "    }\n",
       "</style>\n",
       "<table border=\"1\" class=\"dataframe\">\n",
       "  <thead>\n",
       "    <tr style=\"text-align: right;\">\n",
       "      <th></th>\n",
       "      <th>Sex</th>\n",
       "      <th>Age</th>\n",
       "      <th>Fare</th>\n",
       "      <th>Pclass1</th>\n",
       "      <th>Pclass2</th>\n",
       "      <th>Pclass3</th>\n",
       "    </tr>\n",
       "  </thead>\n",
       "  <tbody>\n",
       "    <tr>\n",
       "      <th>0</th>\n",
       "      <td>0.740762</td>\n",
       "      <td>-0.562605</td>\n",
       "      <td>-0.775565</td>\n",
       "      <td>-0.531466</td>\n",
       "      <td>-0.539925</td>\n",
       "      <td>0.897184</td>\n",
       "    </tr>\n",
       "    <tr>\n",
       "      <th>1</th>\n",
       "      <td>-1.349961</td>\n",
       "      <td>0.604880</td>\n",
       "      <td>2.249297</td>\n",
       "      <td>1.881588</td>\n",
       "      <td>-0.539925</td>\n",
       "      <td>-1.114599</td>\n",
       "    </tr>\n",
       "    <tr>\n",
       "      <th>2</th>\n",
       "      <td>-1.349961</td>\n",
       "      <td>-0.270734</td>\n",
       "      <td>-0.743679</td>\n",
       "      <td>-0.531466</td>\n",
       "      <td>-0.539925</td>\n",
       "      <td>0.897184</td>\n",
       "    </tr>\n",
       "    <tr>\n",
       "      <th>3</th>\n",
       "      <td>-1.349961</td>\n",
       "      <td>0.385976</td>\n",
       "      <td>1.390338</td>\n",
       "      <td>1.881588</td>\n",
       "      <td>-0.539925</td>\n",
       "      <td>-1.114599</td>\n",
       "    </tr>\n",
       "    <tr>\n",
       "      <th>4</th>\n",
       "      <td>0.740762</td>\n",
       "      <td>0.385976</td>\n",
       "      <td>-0.737774</td>\n",
       "      <td>-0.531466</td>\n",
       "      <td>-0.539925</td>\n",
       "      <td>0.897184</td>\n",
       "    </tr>\n",
       "  </tbody>\n",
       "</table>\n",
       "</div>"
      ],
      "text/plain": [
       "        Sex       Age      Fare   Pclass1   Pclass2   Pclass3\n",
       "0  0.740762 -0.562605 -0.775565 -0.531466 -0.539925  0.897184\n",
       "1 -1.349961  0.604880  2.249297  1.881588 -0.539925 -1.114599\n",
       "2 -1.349961 -0.270734 -0.743679 -0.531466 -0.539925  0.897184\n",
       "3 -1.349961  0.385976  1.390338  1.881588 -0.539925 -1.114599\n",
       "4  0.740762  0.385976 -0.737774 -0.531466 -0.539925  0.897184"
      ]
     },
     "execution_count": 23,
     "metadata": {},
     "output_type": "execute_result"
    }
   ],
   "source": [
    "X_train_scaled = pd.DataFrame(preprocessor.fit_transform(X_train), columns=output_pipe_columns)\n",
    "X_train_scaled.head()"
   ]
  },
  {
   "cell_type": "markdown",
   "metadata": {},
   "source": [
    "<div style=\"font-weight:700\">Let's add a model to the pipeline: GradientBoostingClassifier</div>"
   ]
  },
  {
   "cell_type": "code",
   "execution_count": 24,
   "metadata": {},
   "outputs": [
    {
     "data": {
      "text/html": [
       "<style>#sk-135648ae-fbae-4c79-8c0e-a61b5f4aafe7 {color: black;background-color: white;}#sk-135648ae-fbae-4c79-8c0e-a61b5f4aafe7 pre{padding: 0;}#sk-135648ae-fbae-4c79-8c0e-a61b5f4aafe7 div.sk-toggleable {background-color: white;}#sk-135648ae-fbae-4c79-8c0e-a61b5f4aafe7 label.sk-toggleable__label {cursor: pointer;display: block;width: 100%;margin-bottom: 0;padding: 0.2em 0.3em;box-sizing: border-box;text-align: center;}#sk-135648ae-fbae-4c79-8c0e-a61b5f4aafe7 div.sk-toggleable__content {max-height: 0;max-width: 0;overflow: hidden;text-align: left;background-color: #f0f8ff;}#sk-135648ae-fbae-4c79-8c0e-a61b5f4aafe7 div.sk-toggleable__content pre {margin: 0.2em;color: black;border-radius: 0.25em;background-color: #f0f8ff;}#sk-135648ae-fbae-4c79-8c0e-a61b5f4aafe7 input.sk-toggleable__control:checked~div.sk-toggleable__content {max-height: 200px;max-width: 100%;overflow: auto;}#sk-135648ae-fbae-4c79-8c0e-a61b5f4aafe7 div.sk-estimator input.sk-toggleable__control:checked~label.sk-toggleable__label {background-color: #d4ebff;}#sk-135648ae-fbae-4c79-8c0e-a61b5f4aafe7 div.sk-label input.sk-toggleable__control:checked~label.sk-toggleable__label {background-color: #d4ebff;}#sk-135648ae-fbae-4c79-8c0e-a61b5f4aafe7 input.sk-hidden--visually {border: 0;clip: rect(1px 1px 1px 1px);clip: rect(1px, 1px, 1px, 1px);height: 1px;margin: -1px;overflow: hidden;padding: 0;position: absolute;width: 1px;}#sk-135648ae-fbae-4c79-8c0e-a61b5f4aafe7 div.sk-estimator {font-family: monospace;background-color: #f0f8ff;margin: 0.25em 0.25em;border: 1px dotted black;border-radius: 0.25em;box-sizing: border-box;}#sk-135648ae-fbae-4c79-8c0e-a61b5f4aafe7 div.sk-estimator:hover {background-color: #d4ebff;}#sk-135648ae-fbae-4c79-8c0e-a61b5f4aafe7 div.sk-parallel-item::after {content: \"\";width: 100%;border-bottom: 1px solid gray;flex-grow: 1;}#sk-135648ae-fbae-4c79-8c0e-a61b5f4aafe7 div.sk-label:hover label.sk-toggleable__label {background-color: #d4ebff;}#sk-135648ae-fbae-4c79-8c0e-a61b5f4aafe7 div.sk-serial::before {content: \"\";position: absolute;border-left: 1px solid gray;box-sizing: border-box;top: 2em;bottom: 0;left: 50%;}#sk-135648ae-fbae-4c79-8c0e-a61b5f4aafe7 div.sk-serial {display: flex;flex-direction: column;align-items: center;background-color: white;}#sk-135648ae-fbae-4c79-8c0e-a61b5f4aafe7 div.sk-item {z-index: 1;}#sk-135648ae-fbae-4c79-8c0e-a61b5f4aafe7 div.sk-parallel {display: flex;align-items: stretch;justify-content: center;background-color: white;}#sk-135648ae-fbae-4c79-8c0e-a61b5f4aafe7 div.sk-parallel-item {display: flex;flex-direction: column;position: relative;background-color: white;}#sk-135648ae-fbae-4c79-8c0e-a61b5f4aafe7 div.sk-parallel-item:first-child::after {align-self: flex-end;width: 50%;}#sk-135648ae-fbae-4c79-8c0e-a61b5f4aafe7 div.sk-parallel-item:last-child::after {align-self: flex-start;width: 50%;}#sk-135648ae-fbae-4c79-8c0e-a61b5f4aafe7 div.sk-parallel-item:only-child::after {width: 0;}#sk-135648ae-fbae-4c79-8c0e-a61b5f4aafe7 div.sk-dashed-wrapped {border: 1px dashed gray;margin: 0.2em;box-sizing: border-box;padding-bottom: 0.1em;background-color: white;position: relative;}#sk-135648ae-fbae-4c79-8c0e-a61b5f4aafe7 div.sk-label label {font-family: monospace;font-weight: bold;background-color: white;display: inline-block;line-height: 1.2em;}#sk-135648ae-fbae-4c79-8c0e-a61b5f4aafe7 div.sk-label-container {position: relative;z-index: 2;text-align: center;}#sk-135648ae-fbae-4c79-8c0e-a61b5f4aafe7 div.sk-container {display: inline-block;position: relative;}</style><div id=\"sk-135648ae-fbae-4c79-8c0e-a61b5f4aafe7\" class\"sk-top-container\"><div class=\"sk-container\"><div class=\"sk-item sk-dashed-wrapped\"><div class=\"sk-label-container\"><div class=\"sk-label sk-toggleable\"><input class=\"sk-toggleable__control sk-hidden--visually\" id=\"3dd9587c-a239-4545-8d0a-7b070f5d2af8\" type=\"checkbox\" ><label class=\"sk-toggleable__label\" for=\"3dd9587c-a239-4545-8d0a-7b070f5d2af8\">Pipeline</label><div class=\"sk-toggleable__content\"><pre>Pipeline(steps=[('preprocessor',\n",
       "                 Pipeline(steps=[('preproc',\n",
       "                                  ColumnTransformer(transformers=[('binary',\n",
       "                                                                   Pipeline(steps=[('encoder',\n",
       "                                                                                    OneHotEncoder(drop='if_binary',\n",
       "                                                                                                  sparse=False))]),\n",
       "                                                                   ['Sex']),\n",
       "                                                                  ('numeric',\n",
       "                                                                   Pipeline(steps=[('imputer',\n",
       "                                                                                    SimpleImputer())]),\n",
       "                                                                   ['Age',\n",
       "                                                                    'Fare']),\n",
       "                                                                  ('multiclass',\n",
       "                                                                   Pipeline(steps=[('imputer',\n",
       "                                                                                    SimpleImputer(strategy='most_frequent')),\n",
       "                                                                                   ('encoder',\n",
       "                                                                                    OneHotEncoder(sparse=False))]),\n",
       "                                                                   ['Pclass'])])),\n",
       "                                 ('scaler', StandardScaler())])),\n",
       "                ('classifier', GradientBoostingClassifier())])</pre></div></div></div><div class=\"sk-serial\"><div class=\"sk-item\"><div class=\"sk-label-container\"><div class=\"sk-label sk-toggleable\"><input class=\"sk-toggleable__control sk-hidden--visually\" id=\"cc317164-c756-4a69-a299-17533160523e\" type=\"checkbox\" ><label class=\"sk-toggleable__label\" for=\"cc317164-c756-4a69-a299-17533160523e\">preprocessor: Pipeline</label><div class=\"sk-toggleable__content\"><pre>Pipeline(steps=[('preproc',\n",
       "                 ColumnTransformer(transformers=[('binary',\n",
       "                                                  Pipeline(steps=[('encoder',\n",
       "                                                                   OneHotEncoder(drop='if_binary',\n",
       "                                                                                 sparse=False))]),\n",
       "                                                  ['Sex']),\n",
       "                                                 ('numeric',\n",
       "                                                  Pipeline(steps=[('imputer',\n",
       "                                                                   SimpleImputer())]),\n",
       "                                                  ['Age', 'Fare']),\n",
       "                                                 ('multiclass',\n",
       "                                                  Pipeline(steps=[('imputer',\n",
       "                                                                   SimpleImputer(strategy='most_frequent')),\n",
       "                                                                  ('encoder',\n",
       "                                                                   OneHotEncoder(sparse=False))]),\n",
       "                                                  ['Pclass'])])),\n",
       "                ('scaler', StandardScaler())])</pre></div></div></div><div class=\"sk-serial\"><div class=\"sk-item sk-dashed-wrapped\"><div class=\"sk-label-container\"><div class=\"sk-label sk-toggleable\"><input class=\"sk-toggleable__control sk-hidden--visually\" id=\"3bafae74-7ee6-44a3-9a27-e0d13b41be75\" type=\"checkbox\" ><label class=\"sk-toggleable__label\" for=\"3bafae74-7ee6-44a3-9a27-e0d13b41be75\">preproc: ColumnTransformer</label><div class=\"sk-toggleable__content\"><pre>ColumnTransformer(transformers=[('binary',\n",
       "                                 Pipeline(steps=[('encoder',\n",
       "                                                  OneHotEncoder(drop='if_binary',\n",
       "                                                                sparse=False))]),\n",
       "                                 ['Sex']),\n",
       "                                ('numeric',\n",
       "                                 Pipeline(steps=[('imputer', SimpleImputer())]),\n",
       "                                 ['Age', 'Fare']),\n",
       "                                ('multiclass',\n",
       "                                 Pipeline(steps=[('imputer',\n",
       "                                                  SimpleImputer(strategy='most_frequent')),\n",
       "                                                 ('encoder',\n",
       "                                                  OneHotEncoder(sparse=False))]),\n",
       "                                 ['Pclass'])])</pre></div></div></div><div class=\"sk-parallel\"><div class=\"sk-parallel-item\"><div class=\"sk-item\"><div class=\"sk-label-container\"><div class=\"sk-label sk-toggleable\"><input class=\"sk-toggleable__control sk-hidden--visually\" id=\"f29c3daf-10fa-4a25-8c1a-a9c9600e25b7\" type=\"checkbox\" ><label class=\"sk-toggleable__label\" for=\"f29c3daf-10fa-4a25-8c1a-a9c9600e25b7\">binary</label><div class=\"sk-toggleable__content\"><pre>['Sex']</pre></div></div></div><div class=\"sk-serial\"><div class=\"sk-item\"><div class=\"sk-serial\"><div class=\"sk-item\"><div class=\"sk-estimator sk-toggleable\"><input class=\"sk-toggleable__control sk-hidden--visually\" id=\"248a64b4-82c7-40fb-a2a2-cb35b749974c\" type=\"checkbox\" ><label class=\"sk-toggleable__label\" for=\"248a64b4-82c7-40fb-a2a2-cb35b749974c\">OneHotEncoder</label><div class=\"sk-toggleable__content\"><pre>OneHotEncoder(drop='if_binary', sparse=False)</pre></div></div></div></div></div></div></div></div><div class=\"sk-parallel-item\"><div class=\"sk-item\"><div class=\"sk-label-container\"><div class=\"sk-label sk-toggleable\"><input class=\"sk-toggleable__control sk-hidden--visually\" id=\"c7bc7aba-6790-465a-9b40-bb3a6a577c33\" type=\"checkbox\" ><label class=\"sk-toggleable__label\" for=\"c7bc7aba-6790-465a-9b40-bb3a6a577c33\">numeric</label><div class=\"sk-toggleable__content\"><pre>['Age', 'Fare']</pre></div></div></div><div class=\"sk-serial\"><div class=\"sk-item\"><div class=\"sk-serial\"><div class=\"sk-item\"><div class=\"sk-estimator sk-toggleable\"><input class=\"sk-toggleable__control sk-hidden--visually\" id=\"4ee957c5-e004-416c-8742-a514eadb37f0\" type=\"checkbox\" ><label class=\"sk-toggleable__label\" for=\"4ee957c5-e004-416c-8742-a514eadb37f0\">SimpleImputer</label><div class=\"sk-toggleable__content\"><pre>SimpleImputer()</pre></div></div></div></div></div></div></div></div><div class=\"sk-parallel-item\"><div class=\"sk-item\"><div class=\"sk-label-container\"><div class=\"sk-label sk-toggleable\"><input class=\"sk-toggleable__control sk-hidden--visually\" id=\"cc67c3b7-bad6-4ceb-bdec-0c7982ae9b6a\" type=\"checkbox\" ><label class=\"sk-toggleable__label\" for=\"cc67c3b7-bad6-4ceb-bdec-0c7982ae9b6a\">multiclass</label><div class=\"sk-toggleable__content\"><pre>['Pclass']</pre></div></div></div><div class=\"sk-serial\"><div class=\"sk-item\"><div class=\"sk-serial\"><div class=\"sk-item\"><div class=\"sk-estimator sk-toggleable\"><input class=\"sk-toggleable__control sk-hidden--visually\" id=\"ca090c27-79af-4df7-8b75-c0dcba45e881\" type=\"checkbox\" ><label class=\"sk-toggleable__label\" for=\"ca090c27-79af-4df7-8b75-c0dcba45e881\">SimpleImputer</label><div class=\"sk-toggleable__content\"><pre>SimpleImputer(strategy='most_frequent')</pre></div></div></div><div class=\"sk-item\"><div class=\"sk-estimator sk-toggleable\"><input class=\"sk-toggleable__control sk-hidden--visually\" id=\"7f29d0e9-28c3-43c0-ba39-61dce7f67f98\" type=\"checkbox\" ><label class=\"sk-toggleable__label\" for=\"7f29d0e9-28c3-43c0-ba39-61dce7f67f98\">OneHotEncoder</label><div class=\"sk-toggleable__content\"><pre>OneHotEncoder(sparse=False)</pre></div></div></div></div></div></div></div></div></div></div><div class=\"sk-item\"><div class=\"sk-estimator sk-toggleable\"><input class=\"sk-toggleable__control sk-hidden--visually\" id=\"81971cfc-933c-4b9a-b60a-7599d9ca9343\" type=\"checkbox\" ><label class=\"sk-toggleable__label\" for=\"81971cfc-933c-4b9a-b60a-7599d9ca9343\">StandardScaler</label><div class=\"sk-toggleable__content\"><pre>StandardScaler()</pre></div></div></div></div></div><div class=\"sk-item\"><div class=\"sk-estimator sk-toggleable\"><input class=\"sk-toggleable__control sk-hidden--visually\" id=\"315d8da5-b222-4f66-8bac-8a2cb41b1617\" type=\"checkbox\" ><label class=\"sk-toggleable__label\" for=\"315d8da5-b222-4f66-8bac-8a2cb41b1617\">GradientBoostingClassifier</label><div class=\"sk-toggleable__content\"><pre>GradientBoostingClassifier()</pre></div></div></div></div></div></div></div>"
      ],
      "text/plain": [
       "Pipeline(steps=[('preprocessor',\n",
       "                 Pipeline(steps=[('preproc',\n",
       "                                  ColumnTransformer(transformers=[('binary',\n",
       "                                                                   Pipeline(steps=[('encoder',\n",
       "                                                                                    OneHotEncoder(drop='if_binary',\n",
       "                                                                                                  sparse=False))]),\n",
       "                                                                   ['Sex']),\n",
       "                                                                  ('numeric',\n",
       "                                                                   Pipeline(steps=[('imputer',\n",
       "                                                                                    SimpleImputer())]),\n",
       "                                                                   ['Age',\n",
       "                                                                    'Fare']),\n",
       "                                                                  ('multiclass',\n",
       "                                                                   Pipeline(steps=[('imputer',\n",
       "                                                                                    SimpleImputer(strategy='most_frequent')),\n",
       "                                                                                   ('encoder',\n",
       "                                                                                    OneHotEncoder(sparse=False))]),\n",
       "                                                                   ['Pclass'])])),\n",
       "                                 ('scaler', StandardScaler())])),\n",
       "                ('classifier', GradientBoostingClassifier())])"
      ]
     },
     "execution_count": 24,
     "metadata": {},
     "output_type": "execute_result"
    }
   ],
   "source": [
    "final_pipe = Pipeline([\n",
    "    (\"preprocessor\", preprocessor),\n",
    "    ('classifier', GradientBoostingClassifier())])\n",
    "final_pipe"
   ]
  },
  {
   "cell_type": "markdown",
   "metadata": {},
   "source": [
    "# 7. Baseline Accuracy for GradientBoostingClassifier"
   ]
  },
  {
   "cell_type": "code",
   "execution_count": 25,
   "metadata": {},
   "outputs": [
    {
     "name": "stdout",
     "output_type": "stream",
     "text": [
      "Baseline gradient boosting classifier model accuracy: 80.31%\n"
     ]
    }
   ],
   "source": [
    "cv_baseline_GBC = cross_validate(final_pipe, X_train, y_train, scoring= \"accuracy\", cv=15)\n",
    "print(\"Baseline gradient boosting classifier model accuracy: \" + str(round(cv_baseline_GBC[\"test_score\"].mean()*100, 2)) + \"%\")"
   ]
  },
  {
   "cell_type": "markdown",
   "metadata": {},
   "source": [
    "# 8. RandomizedSearchCV for an optimized model"
   ]
  },
  {
   "cell_type": "code",
   "execution_count": 54,
   "metadata": {},
   "outputs": [
    {
     "name": "stdout",
     "output_type": "stream",
     "text": [
      "Fitting 5 folds for each of 100 candidates, totalling 500 fits\n"
     ]
    }
   ],
   "source": [
    "grid_GBC = {'classifier__loss': ['exponential'],#, 'deviance'],\n",
    "            'classifier__learning_rate': stats.loguniform(0.01, 1),\n",
    "            'classifier__n_estimators': stats.randint(1, 500)\n",
    "            }\n",
    "\n",
    "search_GBC = RandomizedSearchCV(final_pipe,\n",
    "                                grid_GBC,\n",
    "                                scoring='accuracy',\n",
    "                                n_iter=100,\n",
    "                                cv=5,\n",
    "                                n_jobs=-1,\n",
    "                                verbose=True)\n",
    "\n",
    "search_GBC.fit(X_train, y_train);"
   ]
  },
  {
   "cell_type": "code",
   "execution_count": 55,
   "metadata": {},
   "outputs": [
    {
     "data": {
      "text/plain": [
       "{'classifier__learning_rate': 0.08245425472325657,\n",
       " 'classifier__loss': 'exponential',\n",
       " 'classifier__n_estimators': 306}"
      ]
     },
     "execution_count": 55,
     "metadata": {},
     "output_type": "execute_result"
    }
   ],
   "source": [
    "search_GBC.best_params_"
   ]
  },
  {
   "cell_type": "code",
   "execution_count": 56,
   "metadata": {},
   "outputs": [
    {
     "name": "stdout",
     "output_type": "stream",
     "text": [
      "Tuned gradient boosting classifier model accuracy: 80.72%\n"
     ]
    }
   ],
   "source": [
    "print(\"Tuned gradient boosting classifier model accuracy: \" + str(round(search_GBC.best_score_*100, 2)) + \"%\")"
   ]
  },
  {
   "cell_type": "code",
   "execution_count": null,
   "metadata": {},
   "outputs": [],
   "source": []
  }
 ],
 "metadata": {
  "kernelspec": {
   "display_name": "Python 3 (ipykernel)",
   "language": "python",
   "name": "python3"
  },
  "language_info": {
   "codemirror_mode": {
    "name": "ipython",
    "version": 3
   },
   "file_extension": ".py",
   "mimetype": "text/x-python",
   "name": "python",
   "nbconvert_exporter": "python",
   "pygments_lexer": "ipython3",
   "version": "3.8.12"
  },
  "toc": {
   "base_numbering": 1,
   "nav_menu": {},
   "number_sections": true,
   "sideBar": true,
   "skip_h1_title": false,
   "title_cell": "Table of Contents",
   "title_sidebar": "Contents",
   "toc_cell": false,
   "toc_position": {},
   "toc_section_display": true,
   "toc_window_display": false
  },
  "varInspector": {
   "cols": {
    "lenName": 16,
    "lenType": 16,
    "lenVar": 40
   },
   "kernels_config": {
    "python": {
     "delete_cmd_postfix": "",
     "delete_cmd_prefix": "del ",
     "library": "var_list.py",
     "varRefreshCmd": "print(var_dic_list())"
    },
    "r": {
     "delete_cmd_postfix": ") ",
     "delete_cmd_prefix": "rm(",
     "library": "var_list.r",
     "varRefreshCmd": "cat(var_dic_list()) "
    }
   },
   "types_to_exclude": [
    "module",
    "function",
    "builtin_function_or_method",
    "instance",
    "_Feature"
   ],
   "window_display": false
  }
 },
 "nbformat": 4,
 "nbformat_minor": 4
}
